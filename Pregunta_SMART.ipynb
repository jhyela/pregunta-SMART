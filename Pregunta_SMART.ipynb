{
  "nbformat": 4,
  "nbformat_minor": 0,
  "metadata": {
    "colab": {
      "provenance": []
    },
    "kernelspec": {
      "name": "python3",
      "display_name": "Python 3"
    },
    "language_info": {
      "name": "python"
    }
  },
  "cells": [
    {
      "cell_type": "markdown",
      "source": [
        "**Problemática**: Identificar qué factores económicos y culturales pueden estan relacionados en el desempeño de los estudiantes de pregrado de la universidad Icesi en el resultado de los distintos módulos de las pruebas saber PRO."
      ],
      "metadata": {
        "id": "iMaaGpXbyyBQ"
      }
    },
    {
      "cell_type": "markdown",
      "source": [
        "**Métrica**: Cuantitativa, aumento en el % del resultado final de los distintos módulos de la prueba saber PRO para los estudiantes de la Universidad Icesi."
      ],
      "metadata": {
        "id": "JmLy6628viF9"
      }
    },
    {
      "cell_type": "markdown",
      "source": [
        "**Pregunta SMART**: ¿Que estrategia se debe implementar para aumentar en un 5% el resultado en los diferentes módulos de las pruebas saber Pro de los estudiantes de pregrado de la universidad Icesi en los próximos 2 años?"
      ],
      "metadata": {
        "id": "4tQ3_b1mvmEO"
      }
    },
    {
      "cell_type": "markdown",
      "source": [
        "**Requerimiento de datos**: Datos históricos de los resultados de saber PRO de los estudiantes de la universidad Iceside los próximos 2 años."
      ],
      "metadata": {
        "id": "Du8mcE2qvxv4"
      }
    }
  ]
}